{
 "cells": [
  {
   "cell_type": "markdown",
   "id": "1f3a943d-3ac4-4483-9cd1-eb3dbbdffc23",
   "metadata": {},
   "source": [
    "# Data Science Tools and Ecosystem"
   ]
  },
  {
   "cell_type": "markdown",
   "id": "8c90951e-dc2d-4e07-bdf4-fedbbdc37f6d",
   "metadata": {},
   "source": [
    "In this notebook, Data Science Tools and Ecosystem are summarized."
   ]
  },
  {
   "cell_type": "markdown",
   "id": "326da101-7e0a-4f40-a637-2eebeb0f37b5",
   "metadata": {},
   "source": [
    "Some of the popular languages that Data Scientists use are:\n",
    "```\n",
    "1. Python\n",
    "2. R\n",
    "3. SQL\n",
    "```"
   ]
  },
  {
   "cell_type": "markdown",
   "id": "41d29e75-b301-4281-aee0-f6faeafc6211",
   "metadata": {},
   "source": [
    "Some of the commonly used libraries used by Data Scientists include:\n",
    "```\n",
    "1. Pandas\n",
    "2. NumPy\n",
    "3. Matplotlib\n",
    "```"
   ]
  },
  {
   "cell_type": "markdown",
   "id": "21f4b313-38e9-4fac-82f1-f5477acb96b6",
   "metadata": {},
   "source": [
    "| Data Science Tools |\n",
    "|--------------------|\n",
    "| Jupyter Notebook   |\n",
    "| RStudio            |\n",
    "| Github    |"
   ]
  },
  {
   "cell_type": "markdown",
   "id": "243ddcfd-28af-4183-9f00-cdba173b9868",
   "metadata": {},
   "source": [
    "### Below are a few examples of evaluating arithmetic expressions in Python"
   ]
  },
  {
   "cell_type": "code",
   "execution_count": 1,
   "id": "18f463d9-5071-4f1c-8389-144751906d33",
   "metadata": {},
   "outputs": [
    {
     "data": {
      "text/plain": [
       "17"
      ]
     },
     "execution_count": 1,
     "metadata": {},
     "output_type": "execute_result"
    }
   ],
   "source": [
    "#This a simple arithmetic expression to mutiply then add integers\n",
    "(3*4)+5"
   ]
  },
  {
   "cell_type": "code",
   "execution_count": 2,
   "id": "d0317e25-ecc5-4eed-b8c8-4e35b45171dd",
   "metadata": {},
   "outputs": [
    {
     "data": {
      "text/plain": [
       "3.3333333333333335"
      ]
     },
     "execution_count": 2,
     "metadata": {},
     "output_type": "execute_result"
    }
   ],
   "source": [
    "# This will convert 200 minutes to hours by dividing by 60\n",
    "200 / 60"
   ]
  },
  {
   "cell_type": "markdown",
   "id": "fd07477a-d6c9-4e7b-bd23-3a5eb99b9963",
   "metadata": {},
   "source": [
    "**Objectives:**\n",
    "- List popular languages for Data Science\n",
    "- List commonly used libraries\n",
    "- Create markdown and code cells\n",
    "- Perform basic arithmetic operations in Python"
   ]
  },
  {
   "cell_type": "markdown",
   "id": "0d3fecd3-c996-4657-9c70-981c709ed69e",
   "metadata": {},
   "source": [
    "## Author\n",
    "Aaesha Nuha Akram"
   ]
  },
  {
   "cell_type": "code",
   "execution_count": null,
   "id": "5e3c0f68-8151-42bd-8ba6-30cce7907b79",
   "metadata": {},
   "outputs": [],
   "source": []
  }
 ],
 "metadata": {
  "kernelspec": {
   "display_name": "Python 3 (ipykernel)",
   "language": "python",
   "name": "python3"
  },
  "language_info": {
   "codemirror_mode": {
    "name": "ipython",
    "version": 3
   },
   "file_extension": ".py",
   "mimetype": "text/x-python",
   "name": "python",
   "nbconvert_exporter": "python",
   "pygments_lexer": "ipython3",
   "version": "3.12.9"
  }
 },
 "nbformat": 4,
 "nbformat_minor": 5
}
